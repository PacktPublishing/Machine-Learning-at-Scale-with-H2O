{
 "cells": [
  {
   "cell_type": "markdown",
   "id": "35885a13",
   "metadata": {},
   "source": [
    "# Chapter 2: Hello World"
   ]
  },
  {
   "cell_type": "code",
   "execution_count": null,
   "id": "df34f7d8",
   "metadata": {},
   "outputs": [],
   "source": [
    "import h2o\n",
    "h2o.init(ip=\"localhost\", port=54323)"
   ]
  },
  {
   "cell_type": "markdown",
   "id": "2b517dce",
   "metadata": {},
   "source": [
    "## Import the data "
   ]
  },
  {
   "cell_type": "code",
   "execution_count": null,
   "id": "b0dfc633",
   "metadata": {},
   "outputs": [],
   "source": [
    "loans = h2o.import_file(\"https://raw.githubusercontent.com/PacktPublishing/Machine-Learning-at-Scale-with-H2O/main/chapt2/loans-lite.csv\")"
   ]
  },
  {
   "cell_type": "code",
   "execution_count": null,
   "id": "c3096745",
   "metadata": {},
   "outputs": [],
   "source": [
    "loans.describe()"
   ]
  },
  {
   "cell_type": "markdown",
   "id": "0757f867",
   "metadata": {},
   "source": [
    "## Model training"
   ]
  },
  {
   "cell_type": "code",
   "execution_count": null,
   "id": "e87c528e",
   "metadata": {},
   "outputs": [],
   "source": [
    "train, validation = loans.split_frame(ratios=[0.75])\n",
    "label = \"bad_loan\"\n",
    "predictors = loans.col_names\n",
    "predictors.remove(label)"
   ]
  },
  {
   "cell_type": "code",
   "execution_count": null,
   "id": "a42f2e78",
   "metadata": {},
   "outputs": [],
   "source": [
    "from h2o.estimators import H2OXGBoostEstimator\n",
    "param = {\"ntrees\" : 25, \"nfolds\" : 10}\n",
    "xgboost_model = H2OXGBoostEstimator(**param)\n",
    "xgboost_model.train(\n",
    "    x = predictors,\n",
    "    y = label,\n",
    "    training_frame = train,\n",
    "    validation_frame = validation)"
   ]
  },
  {
   "cell_type": "markdown",
   "id": "126cbe60",
   "metadata": {},
   "source": [
    "## Export the model scoring artifact"
   ]
  },
  {
   "cell_type": "code",
   "execution_count": null,
   "id": "8d634491",
   "metadata": {},
   "outputs": [],
   "source": [
    "xgboost_model.download_mojo(path=\"~/loans-model\", get_genmodel_jar=True)"
   ]
  },
  {
   "cell_type": "markdown",
   "id": "b506c4c6",
   "metadata": {},
   "source": [
    "## Shut down the cluster"
   ]
  },
  {
   "cell_type": "code",
   "execution_count": null,
   "id": "1926d6c4",
   "metadata": {},
   "outputs": [],
   "source": [
    "h2o.cluster().shutdown()"
   ]
  }
 ],
 "metadata": {
  "kernelspec": {
   "display_name": "Python 3 (ipykernel)",
   "language": "python",
   "name": "python3"
  },
  "language_info": {
   "codemirror_mode": {
    "name": "ipython",
    "version": 3
   },
   "file_extension": ".py",
   "mimetype": "text/x-python",
   "name": "python",
   "nbconvert_exporter": "python",
   "pygments_lexer": "ipython3",
   "version": "3.7.1"
  }
 },
 "nbformat": 4,
 "nbformat_minor": 5
}
