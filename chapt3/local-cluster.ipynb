{
 "cells": [
  {
   "cell_type": "markdown",
   "id": "bf9bd387",
   "metadata": {},
   "source": [
    "# Run H2O on local machine"
   ]
  },
  {
   "cell_type": "code",
   "execution_count": null,
   "id": "6f884391",
   "metadata": {},
   "outputs": [],
   "source": [
    "import h2o\n",
    "h2o.init()"
   ]
  },
  {
   "cell_type": "markdown",
   "id": "24918de0",
   "metadata": {},
   "source": [
    "## Import the data "
   ]
  },
  {
   "cell_type": "code",
   "execution_count": null,
   "id": "4329df7f",
   "metadata": {},
   "outputs": [],
   "source": [
    "input_csv = \"https://raw.githubusercontent.com/PacktPublishing/Machine-Learning-at-Scale-with-H2O/main/chapt3/loans-lite.csv\"\n",
    "loans = h2o.import_file(input_csv)\n",
    "loans.dim"
   ]
  },
  {
   "cell_type": "code",
   "execution_count": null,
   "id": "dd6d56dd",
   "metadata": {},
   "outputs": [],
   "source": [
    "loans.head()"
   ]
  },
  {
   "cell_type": "markdown",
   "id": "bb22012f",
   "metadata": {},
   "source": [
    "## Clean the data"
   ]
  },
  {
   "cell_type": "code",
   "execution_count": null,
   "id": "a7784d4b",
   "metadata": {},
   "outputs": [],
   "source": [
    "loans[\"bad_loan\"] = loans[\"bad_loan\"].asfactor()"
   ]
  },
  {
   "cell_type": "markdown",
   "id": "e3fba443",
   "metadata": {},
   "source": [
    "## Engineer new features from the original data"
   ]
  },
  {
   "cell_type": "code",
   "execution_count": null,
   "id": "71d1b227",
   "metadata": {},
   "outputs": [],
   "source": [
    "loans[\"issue_d_year\"] = loans[\"issue_d\"].year().asfactor()\n",
    "loans[\"issue_d_month\"] = loans[\"issue_d\"].month().asfactor()"
   ]
  },
  {
   "cell_type": "markdown",
   "id": "e315c1f3",
   "metadata": {},
   "source": [
    "## Model training"
   ]
  },
  {
   "cell_type": "code",
   "execution_count": null,
   "id": "2218f10c",
   "metadata": {},
   "outputs": [],
   "source": [
    "train, validate, test = loans.split_frame(seed=1, ratios=[0.7, 0.15])"
   ]
  },
  {
   "cell_type": "code",
   "execution_count": null,
   "id": "66ff0719",
   "metadata": {},
   "outputs": [],
   "source": [
    "predictors = list(loans.col_names)\n",
    "predictors.remove(\"bad_loan\")\n",
    "predictors.remove(\"issue_d\")"
   ]
  },
  {
   "cell_type": "code",
   "execution_count": null,
   "id": "df0bc9b9",
   "metadata": {},
   "outputs": [],
   "source": [
    "from h2o.estimators import H2OXGBoostEstimator\n",
    "param = {\n",
    "    \"ntrees\" : 20,\n",
    "    \"nfolds\" : 5,\n",
    "    \"seed\": 12345\n",
    "}\n",
    "model = H2OXGBoostEstimator(**param)\n",
    "model.train(\n",
    "    x = predictors,\n",
    "    y = \"bad_loan\",\n",
    "    training_frame = train,\n",
    "    validation_frame = validate)"
   ]
  },
  {
   "cell_type": "markdown",
   "id": "ee5fc939",
   "metadata": {},
   "source": [
    "## Evaluate and explain the model"
   ]
  },
  {
   "cell_type": "code",
   "execution_count": null,
   "id": "5d6937f9",
   "metadata": {},
   "outputs": [],
   "source": [
    "perf = model.model_performance(test)\n",
    "perf"
   ]
  },
  {
   "cell_type": "code",
   "execution_count": null,
   "id": "3f71364e",
   "metadata": {},
   "outputs": [],
   "source": [
    "# requires matplotlib\n",
    "explain = model.explain(test,include_explanations=\"varimp\")\n",
    "explain"
   ]
  },
  {
   "cell_type": "markdown",
   "id": "af10adf6",
   "metadata": {},
   "source": [
    "## Export the model scoring artifact"
   ]
  },
  {
   "cell_type": "code",
   "execution_count": null,
   "id": "1f44b168",
   "metadata": {},
   "outputs": [],
   "source": [
    "# replace with your local path\n",
    "model.download_mojo(\"~/download-destination-path\")"
   ]
  },
  {
   "cell_type": "markdown",
   "id": "61d539f9",
   "metadata": {},
   "source": [
    "## Shut down the cluster"
   ]
  },
  {
   "cell_type": "code",
   "execution_count": null,
   "id": "e128b5ee",
   "metadata": {},
   "outputs": [],
   "source": [
    "h2o.cluster().shutdown()"
   ]
  }
 ],
 "metadata": {
  "kernelspec": {
   "display_name": "Python 3 (ipykernel)",
   "language": "python",
   "name": "python3"
  },
  "language_info": {
   "codemirror_mode": {
    "name": "ipython",
    "version": 3
   },
   "file_extension": ".py",
   "mimetype": "text/x-python",
   "name": "python",
   "nbconvert_exporter": "python",
   "pygments_lexer": "ipython3",
   "version": "3.7.1"
  }
 },
 "nbformat": 4,
 "nbformat_minor": 5
}
