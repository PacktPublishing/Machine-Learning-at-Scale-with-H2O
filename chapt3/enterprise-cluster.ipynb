{
 "cells": [
  {
   "cell_type": "markdown",
   "id": "26fc2792",
   "metadata": {},
   "source": [
    "# Run H2O on enterprise cluster\n",
    "Assumes you have launched the H2O cluster from Enteprise Steam UI in H2O AI Cloud https://h2o.ai/freetrial/"
   ]
  },
  {
   "cell_type": "code",
   "execution_count": null,
   "id": "0b6251a8",
   "metadata": {},
   "outputs": [],
   "source": [
    "import h2o\n",
    "import h2osteam\n",
    "from h2osteam.clients import H2oKubernetesClient \n",
    "\n",
    "## replace url, username, password, cluster-name with your specifics\n",
    "conn = h2osteam.login(\n",
    "    url=\"https://steam.cloud.h2o.ai\",\n",
    "    verify_ssl=False,\n",
    "    username=\"ourH2OAICloudUserName\",\n",
    "    password=\"yourH2OAICloudPassword-or-PAT\")\n"
   ]
  },
  {
   "cell_type": "code",
   "execution_count": null,
   "id": "60fd62de",
   "metadata": {},
   "outputs": [],
   "source": [
    "cluster = H2oKubernetesClient().get_cluster(\"test_2\", created_by=\"greg.keys@oracle.com\") \n",
    "cluster.connect()"
   ]
  },
  {
   "cell_type": "markdown",
   "id": "c9da6907",
   "metadata": {},
   "source": [
    "## Import the data "
   ]
  },
  {
   "cell_type": "code",
   "execution_count": null,
   "id": "84f1a6a6",
   "metadata": {},
   "outputs": [],
   "source": [
    "input_csv = \"https://raw.githubusercontent.com/PacktPublishing/Machine-Learning-at-Scale-with-H2O/main/chapt3/loans-lite.csv\"\n",
    "loans = h2o.import_file(input_csv)\n",
    "loans.dim"
   ]
  },
  {
   "cell_type": "code",
   "execution_count": null,
   "id": "7590a4c8",
   "metadata": {},
   "outputs": [],
   "source": [
    "loans.head()"
   ]
  },
  {
   "cell_type": "markdown",
   "id": "4ad38919",
   "metadata": {},
   "source": [
    "## Clean the data"
   ]
  },
  {
   "cell_type": "code",
   "execution_count": null,
   "id": "78b8194b",
   "metadata": {},
   "outputs": [],
   "source": [
    "loans[\"bad_loan\"] = loans[\"bad_loan\"].asfactor()"
   ]
  },
  {
   "cell_type": "markdown",
   "id": "ad6055f1",
   "metadata": {},
   "source": [
    "## Engineer new features from the original data"
   ]
  },
  {
   "cell_type": "code",
   "execution_count": null,
   "id": "dbf7dec9",
   "metadata": {},
   "outputs": [],
   "source": [
    "loans[\"issue_d_year\"] = loans[\"issue_d\"].year().asfactor()\n",
    "loans[\"issue_d_month\"] = loans[\"issue_d\"].month().asfactor()"
   ]
  },
  {
   "cell_type": "markdown",
   "id": "024516fb",
   "metadata": {},
   "source": [
    "## Model training"
   ]
  },
  {
   "cell_type": "code",
   "execution_count": null,
   "id": "695d9577",
   "metadata": {},
   "outputs": [],
   "source": [
    "train, validate, test = loans.split_frame(seed=1, ratios=[0.7, 0.15])"
   ]
  },
  {
   "cell_type": "code",
   "execution_count": null,
   "id": "c0ee4b4d",
   "metadata": {},
   "outputs": [],
   "source": [
    "predictors = list(loans.col_names)\n",
    "predictors.remove(\"bad_loan\")\n",
    "predictors.remove(\"issue_d\")"
   ]
  },
  {
   "cell_type": "code",
   "execution_count": null,
   "id": "d3527ae0",
   "metadata": {},
   "outputs": [],
   "source": [
    "# Note: at the time of this writing the H2O AI Cloud trial environment is not configured for XGBoost\n",
    "# We will use GLM here\n",
    "# For XGBoost, see https://github.com/PacktPublishing/Machine-Learning-at-Scale-with-H2O/blob/main/chapt3/local-cluster.ipynb\n",
    "from h2o.estimators.glm import H2OGeneralizedLinearEstimator\n",
    "param = {\n",
    "    \"family\" : \"binomial\"\n",
    "}\n",
    "model = H2OGeneralizedLinearEstimator(**param)\n",
    "model.train(\n",
    "    x = predictors,\n",
    "    y = \"bad_loan\",\n",
    "    training_frame = train,\n",
    "    validation_frame = validate)"
   ]
  },
  {
   "cell_type": "markdown",
   "id": "3608ac5c",
   "metadata": {},
   "source": [
    "## Evaluate and explain the model"
   ]
  },
  {
   "cell_type": "code",
   "execution_count": null,
   "id": "e4216660",
   "metadata": {},
   "outputs": [],
   "source": [
    "perf = model.model_performance(test)\n",
    "perf"
   ]
  },
  {
   "cell_type": "code",
   "execution_count": null,
   "id": "f25b64a9",
   "metadata": {},
   "outputs": [],
   "source": [
    "# requires matplotlib\n",
    "explain = model.explain(test,include_explanations=\"varimp\")\n",
    "explain"
   ]
  },
  {
   "cell_type": "markdown",
   "id": "4d94b766",
   "metadata": {},
   "source": [
    "## Export the model scoring artifact"
   ]
  },
  {
   "cell_type": "code",
   "execution_count": null,
   "id": "ec184b7e",
   "metadata": {},
   "outputs": [],
   "source": [
    "model.download_mojo(\"~/download-destination-path\") # replace with your local path"
   ]
  },
  {
   "cell_type": "markdown",
   "id": "eda85fad",
   "metadata": {},
   "source": [
    "## Shut down the cluster"
   ]
  },
  {
   "cell_type": "code",
   "execution_count": null,
   "id": "d7a9b86b",
   "metadata": {},
   "outputs": [],
   "source": [
    "h2o.cluster().shutdown()"
   ]
  }
 ],
 "metadata": {
  "kernelspec": {
   "display_name": "Python 3 (ipykernel)",
   "language": "python",
   "name": "python3"
  },
  "language_info": {
   "codemirror_mode": {
    "name": "ipython",
    "version": 3
   },
   "file_extension": ".py",
   "mimetype": "text/x-python",
   "name": "python",
   "nbconvert_exporter": "python",
   "pygments_lexer": "ipython3",
   "version": "3.7.1"
  }
 },
 "nbformat": 4,
 "nbformat_minor": 5
}
